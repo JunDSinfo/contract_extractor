{
 "cells": [
  {
   "cell_type": "markdown",
   "id": "e18fc7e0-293f-4ce8-8cd7-7cac5b8e04b8",
   "metadata": {},
   "source": [
    "### Loading dataset\n"
   ]
  },
  {
   "cell_type": "code",
   "execution_count": 1,
   "id": "3470c3eb-e9bf-456b-bf06-3a59cd94eea8",
   "metadata": {},
   "outputs": [],
   "source": [
    "import pandas as pd\n",
    "\n"
   ]
  },
  {
   "cell_type": "code",
   "execution_count": 10,
   "id": "d50dae22-edbc-4a11-91c4-42fd68f35b50",
   "metadata": {},
   "outputs": [],
   "source": [
    "import os\n",
    "HOME = os.getcwd()"
   ]
  },
  {
   "cell_type": "code",
   "execution_count": 34,
   "id": "4c47f975-b850-4def-b40c-019b5e6b27df",
   "metadata": {},
   "outputs": [
    {
     "data": {
      "application/vnd.jupyter.widget-view+json": {
       "model_id": "e527847b0e1548518480c1abcc833461",
       "version_major": 2,
       "version_minor": 0
      },
      "text/plain": [
       "FileUpload(value=(), description='Upload')"
      ]
     },
     "metadata": {},
     "output_type": "display_data"
    },
    {
     "data": {
      "application/vnd.jupyter.widget-view+json": {
       "model_id": "60406d68d2e94ae1874e0c44ebbf6852",
       "version_major": 2,
       "version_minor": 0
      },
      "text/plain": [
       "Output()"
      ]
     },
     "metadata": {},
     "output_type": "display_data"
    }
   ],
   "source": [
    "import ipywidgets as widgets\n",
    "from IPython.display import display\n",
    "import os\n",
    "import tempfile\n",
    "\n",
    "class FileUploadHandler:\n",
    "    def __init__(self):\n",
    "        self.uploader = widgets.FileUpload(\n",
    "            accept='',  # Accept all file types\n",
    "            multiple=False  # Allow only single file selection\n",
    "        )\n",
    "        self.output = widgets.Output()\n",
    "        self.file_path = None\n",
    "\n",
    "        self.uploader.observe(self.on_upload_change, names='value')\n",
    "\n",
    "    def on_upload_change(self, change):\n",
    "        with self.output:\n",
    "            self.output.clear_output()\n",
    "            if change['new']:\n",
    "                # Handle both tuple and dict cases\n",
    "                if isinstance(change['new'], tuple):\n",
    "                    file = change['new'][0]\n",
    "                else:\n",
    "                    file = list(change['new'].values())[0]\n",
    "                \n",
    "                # Create a temporary file and save the content\n",
    "                with tempfile.NamedTemporaryFile(delete=False, suffix=os.path.splitext(file.name)[1]) as temp_file:\n",
    "                    temp_file.write(file.content)\n",
    "                \n",
    "                self.file_path = temp_file.name\n",
    "                print(f\"File saved at: {self.file_path}\")\n",
    "\n",
    "    def display(self):\n",
    "        display(self.uploader, self.output)\n",
    "\n",
    "    def get_file_path(self):\n",
    "        return self.file_path\n",
    "\n",
    "# Usage\n",
    "file_handler = FileUploadHandler()\n",
    "file_handler.display()\n",
    "\n",
    "# To get the path later:\n",
    "def get_uploaded_file_path():\n",
    "    return file_handler.get_file_path()"
   ]
  },
  {
   "cell_type": "code",
   "execution_count": 38,
   "id": "b46e39c0-c06c-40ee-86a2-8fe9175e166d",
   "metadata": {},
   "outputs": [],
   "source": [
    "path_temp = get_uploaded_file_path()\n",
    "path_temp\n",
    "cost_df = pd.read_excel(path_temp, sheet_name= 'Sheet1')\n"
   ]
  },
  {
   "cell_type": "code",
   "execution_count": 39,
   "id": "c32e35b9-1817-4091-9a9b-9a3c2d5407eb",
   "metadata": {},
   "outputs": [
    {
     "data": {
      "application/vnd.jupyter.widget-view+json": {
       "model_id": "a1aafbf91c5d4744b65fb87af06a90e1",
       "version_major": 2,
       "version_minor": 0
      },
      "text/plain": [
       "FileUpload(value=(), description='Upload')"
      ]
     },
     "metadata": {},
     "output_type": "display_data"
    },
    {
     "data": {
      "application/vnd.jupyter.widget-view+json": {
       "model_id": "83e4da80283e45c0962e17ee83dff74e",
       "version_major": 2,
       "version_minor": 0
      },
      "text/plain": [
       "Output()"
      ]
     },
     "metadata": {},
     "output_type": "display_data"
    }
   ],
   "source": [
    "file_handler = FileUploadHandler()\n",
    "file_handler.display()\n"
   ]
  },
  {
   "cell_type": "code",
   "execution_count": 40,
   "id": "7689e4b3-7e4f-4edc-89fa-4594e03f9382",
   "metadata": {},
   "outputs": [
    {
     "name": "stdout",
     "output_type": "stream",
     "text": [
      "Service Agreement\n",
      "\n",
      "Between:\n",
      "“GlobalService LLC,” represented by CEO John Doe, acting on the basis of the Charter, hereinafter referred to as the “Contractor,”\n",
      "and\n",
      "“ClientProject Inc.,” represented by CEO Jane Smith, acting on the basis of the Charter, hereinafter referred to as the “Client.”\n",
      "\n",
      "1. Object of the Agreement\n",
      "The Contractor agrees to provide software development services in accordance with the specifications annexed to and forming an integral part of this Agreement.\n",
      "The Client agrees to accept and pay for the services provided under the terms of this Agreement.\n",
      "\n",
      "2. Rights and Obligations\n",
      "2.1 The Contractor may involve third parties to perform parts of the work without notifying the Client.\n",
      "2.2 The Client must provide the Contractor with all necessary information for the performance of the work within the timelines set by the specifications.\n",
      "2.3 The Contractor may not use the Client’s confidential information for purposes not related to the execution of this Agreement.\n",
      "\n",
      "3. Financial Terms\n",
      "3.1 The total fee for the services under this Agreement is USD 100,000.\n",
      "3.2 Payment is made by the Client in stages: 50% upfront before the commencement of work, and 50% upon completion of the work.\n",
      "3.3 If payment is delayed by more than 10 days, the Contractor is entitled to suspend work until payment is received.\n",
      "\n",
      "4. General Travel Provisions\n",
      "\n",
      "4.1 Pre-approval Requirement\n",
      "All travel arrangements must be pre-approved by the Client in writing to ensure alignment with project budgets and timelines.\n",
      "\n",
      "4.2 Budget Caps\n",
      "Total expenses for any single trip must not exceed USD 2,500, with daily expenses capped at USD 500 to maintain financial control.\n",
      "\n",
      "4.3 Travel Class Specifications\n",
      "Domestic flights should be booked in economy class to reduce costs; international flights exceeding 6 hours in duration may be booked in business class to ensure traveler well-being.\n",
      "\n",
      "4.4 Accommodation Standards\n",
      "Accommodations must be booked in approved hotels within the standard cost range, unless otherwise justified by specific project needs.\n",
      "\n",
      "4.5 Location and Seasonal Adjustments\n",
      "\n",
      "4.5.1 High-Cost Locations\n",
      "For travels to locations like New York City or San Francisco, daily budgets may be increased by up to 20% with prior written approval from senior management.\n",
      "\n",
      "4.5.2 Seasonal Price Fluctuations\n",
      "During peak tourist seasons, such as summer or local festivals, a budget increase of up to 10% can be approved to account for seasonal price hikes.\n",
      "\n",
      "4.6 Special Circumstances Provisions\n",
      "\n",
      "4.6.1 Weather and Environmental Considerations\n",
      "Additional allowances of up to USD 300 per trip are provided for travel to areas experiencing severe weather conditions or challenging environments.\n",
      "\n",
      "4.6.2 Health and Safety Provisions\n",
      "All necessary health and safety expenses, including vaccinations and insurance, are covered for travel to regions with known health risks.\n",
      "\n",
      "4.7 Compliance with Policies and Laws\n",
      "\n",
      "4.7.1 Environmental Compliance\n",
      "All travel must seek to minimize environmental impact, using green transportation options where possible.\n",
      "\n",
      "4.7.2 Legal and Regulatory Compliance\n",
      "Travel must adhere to all applicable local, national, and international laws, including visa and work permit requirements.\n",
      "\n",
      "4.8 Documentation and Reporting Requirements\n",
      "\n",
      "4.8.1 Expense Reporting\n",
      "Detailed expense reports are required within 10 days following any travel, including all receipts and justifications for expenditures over budget.\n",
      "\n",
      "4.8.2 Audit Rights\n",
      "The Client reserves the right to audit travel expenses and documentation to ensure compliance with the agreement terms and to prevent financial discrepancies.\n",
      "\n",
      "5. Confidentiality and Data Protection\n",
      "5.1 The Contractor shall keep the Client’s business secrets and other confidential information in strict confidence during and after the term of this Agreement.\n",
      "5.2 Any breach of confidentiality substantially affects the execution of this Agreement and will be subject to legal remedies.\n",
      "\n",
      "6. Intellectual Property Rights\n",
      "6.1 All intellectual property rights in the software developed under this Agreement belong to the Client unless otherwise agreed in writing.\n",
      "6.2 The Contractor grants the Client a non-exclusive, worldwide license to use, modify, and distribute the software.\n",
      "\n",
      "7. Termination\n",
      "7.1 This Agreement may be terminated by either party with a 30-day written notice if the other party breaches the Agreement and fails to correct the breach within a 15-day notice period.\n",
      "7.2 Upon termination, all finished work and work in progress must be handed over to the Client, and all outstanding payments must be settled.\n",
      "\n",
      "8. Limitation of Liability\n",
      "8.1 The Contractor’s liability under this Agreement shall be limited to the total fee paid by the Client.\n",
      "8.2 Neither party shall be liable for any indirect, incidental, or consequential damages arising from this Agreement.\n",
      "\n",
      "9. Compliance with Laws\n",
      "9.1 Both parties agree to comply with all applicable laws and regulations in the execution of this Agreement.\n",
      "9.2 The Client is responsible for ensuring that the software does not violate any legal regulations in its intended markets.\n",
      "\n",
      "10. Amendments\n",
      "10.1 No modification of this Agreement shall be valid unless signed by both parties.\n",
      "10.2 Any amendments to the scope of work as defined in the specifications require a written amendment to this Agreement.\n",
      "\n",
      "11. Miscellaneous\n",
      "11.1 This Agreement is governed by the laws of the State of New York.\n",
      "11.2 All disputes arising from this Agreement shall be resolved through arbitration in New York, NY.\n",
      "\n",
      "12. Software Development Tasks\n",
      "12.1 Scope of Work: The Contractor will develop, test, and deploy software as per the functional and technical specifications provided by the Client.\n",
      "12.2 Development Standards: All software must adhere to high industry standards of code quality and performance. The Contractor agrees to conduct rigorous testing and quality assurance before delivery.\n",
      "12.3 Delivery and Implementation: The software shall be delivered according to the milestones set forth in the project plan, and the Contractor shall assist with the implementation of the\n",
      "\n",
      "\n",
      "\n",
      "\n",
      "Amendment to the Service Agreement Regarding Travel Expenses\n",
      "\n",
      "This Amendment is part of the Service Agreement (the “Agreement”) entered into between GlobalService LLC, represented by CEO John Doe, and ClientProject Inc., represented by CEO Jane Smith, originally dated [Insert Date of Main Agreement].\n",
      "\n",
      "Purpose:\n",
      "To introduce complex multi-factor adjustments to the travel expense policy to accommodate various scenarios affecting travel costs, ensuring fair and efficient management of corporate travel expenses.\n",
      "\n",
      "1. Amendments to Travel Expense Policy:\n",
      "\n",
      "1.1 Introduction of Multi-Factor Adjustment Conditions:\n",
      "\n",
      "\t•\tNight and Weekend Travel Multiplier:\n",
      "Travel expenses incurred for flights scheduled between 9:00 PM and 5:00 AM or on weekends (from Friday 9:00 PM to Monday 5:00 AM) will include a multiplier of 1.1 to address the increased costs associated with off-hours travel.\n",
      "\t•\tSeasonal and Location-Based Adjustments:\n",
      "For travel during designated peak seasons (including Christmas, New Year, and national holidays in the destination country) and to high-cost locations (as predefined in the corporate travel policy), an additional multiplier of 1.2 will be applied to the standard travel budget.\n",
      "\t•\tUrgency and Unscheduled Travel Surge Pricing:\n",
      "If travel is necessitated with less than 48 hours notice, a surge pricing multiplier of 1.3 will be applied, reflecting the higher costs associated with last-minute travel arrangements.\n",
      "\n",
      "1.2 Example for Application of Multi-Factor Adjustments:\n",
      "Consider an urgent business requirement necessitates travel to New York City over New Year’s weekend, with flight booking required on a Friday night. If the base approved travel budget is $2,500, the applicable adjustments would be:\n",
      "\n",
      "\t•\tNight and Weekend Travel Multiplier: 1.1\n",
      "\t•\tSeasonal and Location Adjustment for New York during New Year: 1.2\n",
      "\t•\tUrgency Multiplier for last-minute booking: 1.3\n",
      "The total allowable expense for this travel scenario would be $2,500 * 1.1 * 1.2 * 1.3 = $4,158.\n",
      "\n",
      "2. Enforcement and Compliance:\n",
      "Failure to comply with the stipulated adjustment rules will be considered a violation of the corporate travel policy, subject to disciplinary actions and potential financial repercussions as outlined in the main Agreement.\n"
     ]
    }
   ],
   "source": [
    "from docx import Document\n",
    "\n",
    "# Specify the file path\n",
    "file_path = get_uploaded_file_path()\n",
    "\n",
    "# Open the document\n",
    "document = Document(file_path)\n",
    "\n",
    "# Extract the text from the document\n",
    "text = '\\n'.join([paragraph.text for paragraph in document.paragraphs])\n",
    "\n",
    "# Print the extracted text\n",
    "print(text)"
   ]
  },
  {
   "cell_type": "code",
   "execution_count": null,
   "id": "cb8beb76-6702-498c-a321-d95640ed95a2",
   "metadata": {},
   "outputs": [],
   "source": []
  },
  {
   "cell_type": "code",
   "execution_count": null,
   "id": "dec31a20-63f2-458d-a289-0f4d0984142f",
   "metadata": {},
   "outputs": [],
   "source": []
  },
  {
   "cell_type": "code",
   "execution_count": null,
   "id": "277b87ed-67e0-4070-ad7f-4cad1a1149eb",
   "metadata": {},
   "outputs": [],
   "source": []
  },
  {
   "cell_type": "markdown",
   "id": "ceaac264-67d7-4445-9a36-c1f88acccf18",
   "metadata": {},
   "source": [
    "### Analysis testing data"
   ]
  },
  {
   "cell_type": "code",
   "execution_count": null,
   "id": "754c309e-e25c-4025-a8db-a1c5d9f09259",
   "metadata": {},
   "outputs": [],
   "source": []
  }
 ],
 "metadata": {
  "kernelspec": {
   "display_name": "Python 3 (ipykernel)",
   "language": "python",
   "name": "python3"
  },
  "language_info": {
   "codemirror_mode": {
    "name": "ipython",
    "version": 3
   },
   "file_extension": ".py",
   "mimetype": "text/x-python",
   "name": "python",
   "nbconvert_exporter": "python",
   "pygments_lexer": "ipython3",
   "version": "3.9.19"
  }
 },
 "nbformat": 4,
 "nbformat_minor": 5
}
